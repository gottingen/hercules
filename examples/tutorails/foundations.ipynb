{
 "cells": [
  {
   "cell_type": "markdown",
   "id": "afd8e75e-231d-4fde-9ae0-9a5da94e0e08",
   "metadata": {},
   "source": [
    "# Print"
   ]
  },
  {
   "cell_type": "code",
   "execution_count": 1,
   "id": "f56e762b-a184-4a30-9862-4f4d7de84b82",
   "metadata": {},
   "outputs": [
    {
     "data": {
      "text/plain": [
       "hello world\n"
      ]
     },
     "execution_count": 1,
     "metadata": {},
     "output_type": "execute_result"
    }
   ],
   "source": [
    "print('hello world')"
   ]
  },
  {
   "cell_type": "code",
   "execution_count": 2,
   "id": "1854ef78-0f73-44bc-a5a9-197fe3046ec0",
   "metadata": {},
   "outputs": [
    {
     "data": {
      "text/plain": [
       "hello world"
      ]
     },
     "execution_count": 2,
     "metadata": {},
     "output_type": "execute_result"
    }
   ],
   "source": [
    "from sys import stderr\n",
    "print('hello world', end='', file=stderr)"
   ]
  },
  {
   "cell_type": "markdown",
   "id": "86f2b5c1-9fff-41bf-8303-7ee5ca32a5c2",
   "metadata": {},
   "source": [
    "# Comment"
   ]
  },
  {
   "cell_type": "code",
   "execution_count": 5,
   "id": "605ae705-c578-40a6-ab93-8211ad39dfb8",
   "metadata": {},
   "outputs": [],
   "source": [
    " # This is a comment"
   ]
  },
  {
   "cell_type": "code",
   "execution_count": 6,
   "id": "11535c52-5f59-472a-b537-33f0416eb851",
   "metadata": {},
   "outputs": [
    {
     "data": {
      "text/plain": [
       "'\\nMulti-line comments are\\npossible like this.\\n'"
      ]
     },
     "execution_count": 6,
     "metadata": {},
     "output_type": "execute_result"
    }
   ],
   "source": [
    "\"\"\"\n",
    "Multi-line comments are\n",
    "possible like this.\n",
    "\"\"\""
   ]
  },
  {
   "cell_type": "markdown",
   "id": "8501386c-3608-42b2-8a81-12b5c1c830d2",
   "metadata": {},
   "source": [
    "# Literals"
   ]
  },
  {
   "cell_type": "code",
   "execution_count": 10,
   "id": "e66b033a-ea02-4c0b-bce5-c7631ad6a15d",
   "metadata": {},
   "outputs": [],
   "source": [
    "# Booleans\n",
    "True   # type: bool\n",
    "False\n",
    "\n",
    "# Numbers\n",
    "a = 1             # type: int; a signed 64-bit integer\n",
    "b = 1.12          # type: float; a 64-bit float (just like \"double\" in C)\n",
    "c = 5u            # unsigned int; an unsigned 64-bit int\n",
    "d = Int[8](12)    # 8-bit signed integer; you can go all the way to Int[2048]\n",
    "e = UInt[8](200)  # 8-bit unsigned integer\n",
    "f = byte(3)       # Hercules's byte is equivalent to C's char; equivalent to Int[8]\n",
    "\n",
    "h = 0x12AF   # hexadecimal integers are also welcome\n",
    "g = 3.11e+9  # scientific notation is also supported\n",
    "g = .223     # and this is also float\n",
    "g = .11E-1   # and this as well\n",
    "\n",
    "# Strings\n",
    "s = 'hello! \"^_^\" '              # type: str\n",
    "t = \"hello there! \\t \\\\ '^_^' \"  # \\t is a tab character; \\\\ stands for \\\n",
    "raw = r\"hello\\n\"                 # raw strings do not escape slashes; this would print \"hello\\n\"\n",
    "fstr = f\"a is {a + 1}\"           # an f-string; prints \"a is 2\"\n",
    "fstr = f\"hi! {a+1=}\"             # an f-string; prints \"hi! a+1=2\"\n",
    "t = \"\"\"\n",
    "hello!\n",
    "multiline string\n",
    "\"\"\"\n",
    "\n",
    "# The following escape sequences are supported:\n",
    "#   \\\\, \\', \\\", \\a, \\b, \\f, \\n, \\r, \\t, \\v,\n",
    "#   \\xHHH (HHH is hex code), \\OOO (OOO is octal code)"
   ]
  },
  {
   "cell_type": "markdown",
   "id": "54691cdf-4278-4eb6-a459-9d560fc14aef",
   "metadata": {},
   "source": [
    "Assignments and operators"
   ]
  },
  {
   "cell_type": "code",
   "execution_count": 9,
   "id": "078703a7-ad2f-4564-baf7-250dcbb660e9",
   "metadata": {},
   "outputs": [],
   "source": [
    "a = 1 + 2              # this is 3\n",
    "a = (1).__add__(2)     # you can use a function call instead of an operator; this is also 3\n",
    "a = int.__add__(1, 2)  # this is equivalent to the previous line\n",
    "b = 5 / 2.0            # this is 2.5\n",
    "c = 5 // 2             # this is 2; // is an integer division\n",
    "a *= 2                 # a is now 6"
   ]
  },
  {
   "cell_type": "markdown",
   "id": "4bb752f3-c4f3-448b-88ad-1a561aae8efd",
   "metadata": {},
   "source": [
    "# Control flow"
   ]
  },
  {
   "cell_type": "markdown",
   "id": "56ed936b-a0f8-4944-8316-87de2dade45b",
   "metadata": {},
   "source": [
    "## if statement"
   ]
  },
  {
   "cell_type": "code",
   "execution_count": 6,
   "id": "717a902e-1fd1-4e20-991b-9a20c92709e2",
   "metadata": {},
   "outputs": [
    {
     "data": {
      "text/plain": [
       "d is less than 3\n"
      ]
     },
     "execution_count": 6,
     "metadata": {},
     "output_type": "execute_result"
    }
   ],
   "source": [
    "d = 2\n",
    "if d > 3:\n",
    "    print(\"d is greater than 3\")\n",
    "elif d == 3:\n",
    "    print(\"d is equal to 3\")\n",
    "else:\n",
    "    print(\"d is less than 3\")"
   ]
  },
  {
   "cell_type": "markdown",
   "id": "8985c4d5-494b-48f8-8791-371c469cb73c",
   "metadata": {},
   "source": [
    "## Match"
   ]
  },
  {
   "cell_type": "code",
   "execution_count": null,
   "id": "535984f7-fdab-4308-986e-870c5aafa8d9",
   "metadata": {},
   "outputs": [],
   "source": [
    "def random_number():\n",
    "    import random\n",
    "    return random.randint(0, 20)\n",
    "\n",
    "def match_ex():\n",
    "    for _ in range(20):\n",
    "        match random_number():  # assuming that the type of this expression is int\n",
    "            case 1:         # is it 1?\n",
    "                print('hi')\n",
    "            case 2 ... 10:  # is it 2, 3, 4, 5, 6, 7, 8, 9 or 10?\n",
    "                print('wow!')\n",
    "            case _:         # \"default\" case\n",
    "                print('meh...')\n",
    "        \n",
    "match_ex()"
   ]
  },
  {
   "cell_type": "code",
   "execution_count": null,
   "id": "9d9452ab-1e5e-4b80-bbb7-7f509256b1da",
   "metadata": {},
   "outputs": [],
   "source": [
    "def match_ex():\n",
    "    match random_number():  # assuming that the type of this expression is int\n",
    "        case 1:         # is it 1?\n",
    "            print('hi')\n",
    "        case 2 ... 10:  # is it 2, 3, 4, 5, 6, 7, 8, 9 or 10?\n",
    "            print('wow!')\n",
    "        case _:         # \"default\" case\n",
    "            print('meh...')\n"
   ]
  },
  {
   "cell_type": "markdown",
   "id": "97128c24-1978-4b41-8872-12cb2aff0b7d",
   "metadata": {},
   "source": [
    "## loop"
   ]
  },
  {
   "cell_type": "code",
   "execution_count": 1,
   "id": "c00ea7a7-761b-4e43-9b35-0a24af089ee6",
   "metadata": {},
   "outputs": [
    {
     "data": {
      "text/plain": [
       "0\n",
       "1\n",
       "2\n",
       "3\n",
       "4\n",
       "1\n",
       "3\n",
       "5\n",
       "7\n",
       "9\n",
       "10\n",
       "9\n",
       "8\n",
       "7\n",
       "6\n",
       "5\n",
       "4\n",
       "3\n",
       "2\n",
       "1\n",
       "2\n",
       "3\n",
       "4\n",
       "5\n",
       "h\n",
       "e\n",
       "l\n",
       "l\n",
       "o\n",
       "no break\n",
       "no break\n",
       "no break\n"
      ]
     },
     "execution_count": 1,
     "metadata": {},
     "output_type": "execute_result"
    }
   ],
   "source": [
    "for i in range(5):\n",
    "        print(i)\n",
    "\n",
    "for i in range(1, 10, 2):  # start, stop, step\n",
    "    print(i)\n",
    "\n",
    "for i in range(10, 1, -1):  # start, stop, step\n",
    "    print(i)\n",
    "\n",
    "for i in [1, 2, 3, 4, 5]:\n",
    "    print(i)\n",
    "\n",
    "for i in 'hello':\n",
    "    print(i)\n",
    "\n",
    "for i in range(5):\n",
    "    if i == 3:\n",
    "        break\n",
    "        print(i)\n",
    "    else:\n",
    "        print('no break')"
   ]
  },
  {
   "cell_type": "code",
   "execution_count": 2,
   "id": "9b2f753c-190e-4f02-8a33-3dc5705da5ec",
   "metadata": {},
   "outputs": [
    {
     "data": {
      "text/plain": [
       "0\n",
       "1\n",
       "2\n",
       "3\n",
       "4\n",
       "0\n",
       "1\n",
       "2\n",
       "3\n",
       "4\n",
       "1\n",
       "2\n",
       "4\n",
       "5\n"
      ]
     },
     "execution_count": 2,
     "metadata": {},
     "output_type": "execute_result"
    }
   ],
   "source": [
    "i = 0\n",
    "while i < 5:\n",
    "    print(i)\n",
    "    i += 1\n",
    "\n",
    "i = 0\n",
    "while True:\n",
    "    if i == 5:\n",
    "        break\n",
    "    print(i)\n",
    "    i += 1\n",
    "\n",
    "i = 0\n",
    "while i < 5:\n",
    "    i += 1\n",
    "    if i == 3:\n",
    "        continue\n",
    "    print(i)"
   ]
  },
  {
   "cell_type": "code",
   "execution_count": 4,
   "id": "06244ee4-a5e7-4892-b54d-063d7fc5986c",
   "metadata": {},
   "outputs": [
    {
     "data": {
      "text/plain": [
       "2\n",
       "2\n"
      ]
     },
     "execution_count": 4,
     "metadata": {},
     "output_type": "execute_result"
    }
   ],
   "source": [
    "import math\n",
    "print(math.sqrt(4))\n",
    "\n",
    "from math import sqrt\n",
    "print(sqrt(4))\n"
   ]
  },
  {
   "cell_type": "code",
   "execution_count": 5,
   "id": "cc63ad68-8713-4848-a587-470473368514",
   "metadata": {},
   "outputs": [],
   "source": [
    "def baz(a, b) -> int:\n",
    "        return a + b"
   ]
  },
  {
   "cell_type": "code",
   "execution_count": 6,
   "id": "45cf2d4b-4c84-4d11-9115-a42ee73d0243",
   "metadata": {},
   "outputs": [
    {
     "data": {
      "text/plain": [
       "3\n"
      ]
     },
     "execution_count": 6,
     "metadata": {},
     "output_type": "execute_result"
    }
   ],
   "source": [
    "print(baz(1,2))"
   ]
  },
  {
   "cell_type": "code",
   "execution_count": 7,
   "id": "65780a3a-4549-407e-84ff-9a792addbdac",
   "metadata": {},
   "outputs": [
    {
     "name": "stderr",
     "output_type": "stream",
     "text": [
      "Compile error: 'int' does not match expected type 'float'\n",
      "Backtrace:\n",
      "during the realization of baz(a: float, b: int)"
     ]
    }
   ],
   "source": [
    "print(baz(2.0,1))"
   ]
  },
  {
   "cell_type": "code",
   "execution_count": 8,
   "id": "6e0c4a9d-cff5-493e-9e8d-98613c5506af",
   "metadata": {},
   "outputs": [
    {
     "data": {
      "text/plain": [
       "3\n"
      ]
     },
     "execution_count": 8,
     "metadata": {},
     "output_type": "execute_result"
    }
   ],
   "source": [
    "print(baz(2,1))"
   ]
  },
  {
   "cell_type": "code",
   "execution_count": 9,
   "id": "561d3897-141a-4022-a747-3f5493285508",
   "metadata": {},
   "outputs": [
    {
     "name": "stderr",
     "output_type": "stream",
     "text": [
      "Compile error: 'int' does not match expected type 'str'\n",
      "Backtrace:\n",
      "during the realization of baz(a: str, b: str)"
     ]
    }
   ],
   "source": [
    "print(baz('1', '2'))"
   ]
  },
  {
   "cell_type": "code",
   "execution_count": 23,
   "id": "5e2c0e93-09c1-437d-b33e-84dad7f2a1c6",
   "metadata": {},
   "outputs": [
    {
     "data": {
      "text/plain": [
       "0 x 0 = 0\n",
       "1 x 1 = 1\n",
       "2 x 2 = 4\n",
       "3 x 3 = 9\n",
       "4 x 4 = 16\n",
       "5 x 5 = 25\n",
       "6 x 6 = 36\n",
       "7 x 7 = 49\n",
       "8 x 8 = 64\n",
       "9 x 9 = 81\n"
      ]
     },
     "execution_count": 23,
     "metadata": {},
     "output_type": "execute_result"
    }
   ],
   "source": [
    "squares = (i ** 2 for i in range(10))\n",
    "import time\n",
    "for i,s in enumerate(squares):\n",
    "    time.sleep(1)\n",
    "    print(i, 'x', i, '=', s)"
   ]
  },
  {
   "cell_type": "code",
   "execution_count": 16,
   "id": "a4381b85-160c-4725-b3da-b6b45df30cb7",
   "metadata": {},
   "outputs": [
    {
     "name": "stderr",
     "output_type": "stream",
     "text": [
      "Compile error: 'float' does not match expected type 'int'\n",
      "Backtrace:\n"
     ]
    }
   ],
   "source": [
    "class Foo[T]:\n",
    "    x: T\n",
    "    y: T\n",
    "    def __init__(self, x: T, y: T):\n",
    "        self.x, self.y = x, y\n",
    "    \n",
    "    def method(self):\n",
    "        print(self.x, self.y)\n",
    "f = Foo(1, 1.1)\n",
    "f.method()\n"
   ]
  },
  {
   "cell_type": "code",
   "execution_count": 19,
   "id": "1eb25a54-4682-4e8d-81ce-3e23c7cc4a3d",
   "metadata": {},
   "outputs": [
    {
     "data": {
      "text/plain": [
       "0\n",
       "10\n"
      ]
     },
     "execution_count": 19,
     "metadata": {},
     "output_type": "execute_result"
    }
   ],
   "source": [
    "class Foo:\n",
    "        z: ClassVar[int] = 0\n",
    "print(Foo.z)\n",
    "Foo.z = 10\n",
    "print(Foo.z)"
   ]
  },
  {
   "cell_type": "code",
   "execution_count": null,
   "id": "20793e21-b75a-470e-a493-edc2f70647fd",
   "metadata": {},
   "outputs": [],
   "source": []
  }
 ],
 "metadata": {
  "kernelspec": {
   "display_name": "Hercules",
   "language": "python",
   "name": "hercules"
  },
  "language_info": {
   "codemirror_mode": "",
   "file_extension": ".hs",
   "mimetype": "text/x-python",
   "name": "python",
   "nbconvert_exporter": "",
   "pygments_lexer": "python",
   "version": "3.7"
  }
 },
 "nbformat": 4,
 "nbformat_minor": 5
}
