{
 "cells": [
  {
   "cell_type": "code",
   "execution_count": null,
   "id": "65c7e4ab-e6cf-4269-bdba-10018e0223c6",
   "metadata": {},
   "outputs": [],
   "source": [
    "# Print"
   ]
  },
  {
   "cell_type": "code",
   "execution_count": 1,
   "id": "f56e762b-a184-4a30-9862-4f4d7de84b82",
   "metadata": {},
   "outputs": [
    {
     "data": {
      "text/plain": [
       "hello world\n"
      ]
     },
     "execution_count": 1,
     "metadata": {},
     "output_type": "execute_result"
    }
   ],
   "source": [
    "print('hello world')"
   ]
  },
  {
   "cell_type": "code",
   "execution_count": 2,
   "id": "1854ef78-0f73-44bc-a5a9-197fe3046ec0",
   "metadata": {},
   "outputs": [
    {
     "data": {
      "text/plain": [
       "hello world"
      ]
     },
     "execution_count": 2,
     "metadata": {},
     "output_type": "execute_result"
    }
   ],
   "source": [
    "from sys import stderr\n",
    "print('hello world', end='', file=stderr)"
   ]
  },
  {
   "cell_type": "code",
   "execution_count": null,
   "id": "4ba73003-62f9-4457-8576-20a0ca95d7f4",
   "metadata": {},
   "outputs": [],
   "source": [
    "# Comment"
   ]
  },
  {
   "cell_type": "code",
   "execution_count": 5,
   "id": "605ae705-c578-40a6-ab93-8211ad39dfb8",
   "metadata": {},
   "outputs": [],
   "source": [
    " # This is a comment"
   ]
  },
  {
   "cell_type": "code",
   "execution_count": 6,
   "id": "11535c52-5f59-472a-b537-33f0416eb851",
   "metadata": {},
   "outputs": [
    {
     "data": {
      "text/plain": [
       "'\\nMulti-line comments are\\npossible like this.\\n'"
      ]
     },
     "execution_count": 6,
     "metadata": {},
     "output_type": "execute_result"
    }
   ],
   "source": [
    "\"\"\"\n",
    "Multi-line comments are\n",
    "possible like this.\n",
    "\"\"\""
   ]
  },
  {
   "cell_type": "markdown",
   "id": "8501386c-3608-42b2-8a81-12b5c1c830d2",
   "metadata": {},
   "source": [
    "# Literals"
   ]
  },
  {
   "cell_type": "code",
   "execution_count": 10,
   "id": "e66b033a-ea02-4c0b-bce5-c7631ad6a15d",
   "metadata": {},
   "outputs": [],
   "source": [
    "# Booleans\n",
    "True   # type: bool\n",
    "False\n",
    "\n",
    "# Numbers\n",
    "a = 1             # type: int; a signed 64-bit integer\n",
    "b = 1.12          # type: float; a 64-bit float (just like \"double\" in C)\n",
    "c = 5u            # unsigned int; an unsigned 64-bit int\n",
    "d = Int[8](12)    # 8-bit signed integer; you can go all the way to Int[2048]\n",
    "e = UInt[8](200)  # 8-bit unsigned integer\n",
    "f = byte(3)       # Codon's byte is equivalent to C's char; equivalent to Int[8]\n",
    "\n",
    "h = 0x12AF   # hexadecimal integers are also welcome\n",
    "g = 3.11e+9  # scientific notation is also supported\n",
    "g = .223     # and this is also float\n",
    "g = .11E-1   # and this as well\n",
    "\n",
    "# Strings\n",
    "s = 'hello! \"^_^\" '              # type: str\n",
    "t = \"hello there! \\t \\\\ '^_^' \"  # \\t is a tab character; \\\\ stands for \\\n",
    "raw = r\"hello\\n\"                 # raw strings do not escape slashes; this would print \"hello\\n\"\n",
    "fstr = f\"a is {a + 1}\"           # an f-string; prints \"a is 2\"\n",
    "fstr = f\"hi! {a+1=}\"             # an f-string; prints \"hi! a+1=2\"\n",
    "t = \"\"\"\n",
    "hello!\n",
    "multiline string\n",
    "\"\"\"\n",
    "\n",
    "# The following escape sequences are supported:\n",
    "#   \\\\, \\', \\\", \\a, \\b, \\f, \\n, \\r, \\t, \\v,\n",
    "#   \\xHHH (HHH is hex code), \\OOO (OOO is octal code)"
   ]
  },
  {
   "cell_type": "markdown",
   "id": "54691cdf-4278-4eb6-a459-9d560fc14aef",
   "metadata": {},
   "source": [
    "Assignments and operators"
   ]
  },
  {
   "cell_type": "code",
   "execution_count": 9,
   "id": "078703a7-ad2f-4564-baf7-250dcbb660e9",
   "metadata": {},
   "outputs": [],
   "source": [
    "a = 1 + 2              # this is 3\n",
    "a = (1).__add__(2)     # you can use a function call instead of an operator; this is also 3\n",
    "a = int.__add__(1, 2)  # this is equivalent to the previous line\n",
    "b = 5 / 2.0            # this is 2.5\n",
    "c = 5 // 2             # this is 2; // is an integer division\n",
    "a *= 2                 # a is now 6"
   ]
  },
  {
   "cell_type": "code",
   "execution_count": null,
   "id": "bfff9b5f-aa03-4f76-ae42-2006b5096da8",
   "metadata": {},
   "outputs": [],
   "source": []
  }
 ],
 "metadata": {
  "kernelspec": {
   "display_name": "Hercules",
   "language": "python",
   "name": "hercules"
  },
  "language_info": {
   "codemirror_mode": "",
   "file_extension": ".hs",
   "mimetype": "text/x-python",
   "name": "python",
   "nbconvert_exporter": "",
   "pygments_lexer": "python",
   "version": "3.7"
  }
 },
 "nbformat": 4,
 "nbformat_minor": 5
}
