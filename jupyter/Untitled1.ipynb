{
 "cells": [
  {
   "cell_type": "code",
   "execution_count": 1,
   "id": "428bb11f-8325-4c40-bf55-133cb8d85719",
   "metadata": {},
   "outputs": [
    {
     "data": {
      "text/plain": [
       "2\n"
      ]
     },
     "execution_count": 1,
     "metadata": {},
     "output_type": "execute_result"
    }
   ],
   "source": [
    "print 2"
   ]
  },
  {
   "cell_type": "code",
   "execution_count": 5,
   "id": "2a55729f-ff4a-4c31-95c5-79d0bc69dd3e",
   "metadata": {},
   "outputs": [],
   "source": [
    "@export\n",
    "def add(x:int, y:int) -> int:\n",
    "    return x + y"
   ]
  },
  {
   "cell_type": "code",
   "execution_count": 7,
   "id": "a02595da-1ed7-490e-bcfe-b150b83996f9",
   "metadata": {},
   "outputs": [],
   "source": [
    "a = add(3 , 3)"
   ]
  },
  {
   "cell_type": "code",
   "execution_count": 8,
   "id": "0d489091-350b-4c1c-8d0a-c176d1fb23f3",
   "metadata": {},
   "outputs": [
    {
     "data": {
      "text/plain": [
       "6\n"
      ]
     },
     "execution_count": 8,
     "metadata": {},
     "output_type": "execute_result"
    }
   ],
   "source": [
    "print(a)"
   ]
  },
  {
   "cell_type": "code",
   "execution_count": null,
   "id": "d934c905-71b2-4c04-bc77-01cf2c4cd817",
   "metadata": {},
   "outputs": [],
   "source": []
  }
 ],
 "metadata": {
  "kernelspec": {
   "display_name": "Hercules",
   "language": "python",
   "name": "hercules"
  },
  "language_info": {
   "codemirror_mode": "",
   "file_extension": ".hs",
   "mimetype": "text/x-python",
   "name": "python",
   "nbconvert_exporter": "",
   "pygments_lexer": "python",
   "version": "3.7"
  }
 },
 "nbformat": 4,
 "nbformat_minor": 5
}
