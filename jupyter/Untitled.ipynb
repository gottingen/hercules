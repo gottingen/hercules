{
 "cells": [
  {
   "cell_type": "code",
   "execution_count": 18,
   "id": "e72b5b51-dd4e-4157-b4b4-b8be73f707d0",
   "metadata": {},
   "outputs": [
    {
     "data": {
      "text/plain": [
       "2\n"
      ]
     },
     "execution_count": 18,
     "metadata": {},
     "output_type": "execute_result"
    }
   ],
   "source": [
    "print 2"
   ]
  },
  {
   "cell_type": "code",
   "execution_count": 19,
   "id": "9c3c7d94-8c86-4426-989f-8c494e6abca5",
   "metadata": {},
   "outputs": [],
   "source": [
    "x = 2"
   ]
  },
  {
   "cell_type": "code",
   "execution_count": 20,
   "id": "daa6f1f9-de94-4603-b9d6-a782af62be13",
   "metadata": {},
   "outputs": [
    {
     "data": {
      "text/plain": [
       "2\n"
      ]
     },
     "execution_count": 20,
     "metadata": {},
     "output_type": "execute_result"
    }
   ],
   "source": [
    "print(x)"
   ]
  },
  {
   "cell_type": "code",
   "execution_count": 21,
   "id": "6eaca5f6-597f-4f4f-b35c-4113b396d3b8",
   "metadata": {},
   "outputs": [],
   "source": [
    "def add(x, y):\n",
    "    return x + y\n"
   ]
  },
  {
   "cell_type": "code",
   "execution_count": 22,
   "id": "9f5b642a-0b82-4267-a3bd-7d4cfcc23bcc",
   "metadata": {},
   "outputs": [
    {
     "data": {
      "text/plain": [
       "7\n"
      ]
     },
     "execution_count": 22,
     "metadata": {},
     "output_type": "execute_result"
    }
   ],
   "source": [
    "print(add(3, 4))"
   ]
  }
 ],
 "metadata": {
  "kernelspec": {
   "display_name": "Hercules",
   "language": "python",
   "name": "hercules"
  },
  "language_info": {
   "codemirror_mode": "",
   "file_extension": ".hs",
   "mimetype": "text/x-python",
   "name": "python",
   "nbconvert_exporter": "",
   "pygments_lexer": "python",
   "version": "3.7"
  }
 },
 "nbformat": 4,
 "nbformat_minor": 5
}
